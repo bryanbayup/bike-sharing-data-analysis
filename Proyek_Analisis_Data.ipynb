{
  "cells": [
    {
      "cell_type": "markdown",
      "metadata": {
        "id": "H9wADwK78DCz"
      },
      "source": [
        "# Proyek Analisis Data: [Input Nama Dataset]\n",
        "- **Nama:** Briyan Bayu Pangestu\n",
        "- **Email:** bryanazza836@gmail.com\n",
        "- **ID Dicoding:** bryan231"
      ]
    },
    {
      "cell_type": "markdown",
      "metadata": {
        "id": "eE0raob58DC0"
      },
      "source": [
        "## Menentukan Pertanyaan Bisnis"
      ]
    },
    {
      "cell_type": "markdown",
      "metadata": {
        "id": "GmQeQ5YF8DC0"
      },
      "source": [
        "- Pertanyaan 1\n",
        "  Pada jam berapa penyewaan sepeda paling banyak dan paling sedikit terjadi?\n",
        "- Pertanyaan 2\n",
        "  Pada musim apa penyewaan sepeda paling banyak terjadi?"
      ]
    },
    {
      "cell_type": "markdown",
      "metadata": {
        "id": "H-z4QGlO8DC1"
      },
      "source": [
        "## Import Semua Packages/Library yang Digunakan"
      ]
    },
    {
      "cell_type": "code",
      "execution_count": 62,
      "metadata": {
        "id": "FVYwaObI8DC1"
      },
      "outputs": [],
      "source": [
        "# Memanggil library yang dibutuhkan\n",
        "import numpy as np\n",
        "import pandas as pd\n",
        "import matplotlib.pyplot as plt\n",
        "import seaborn as sns"
      ]
    },
    {
      "cell_type": "markdown",
      "metadata": {
        "id": "h_Sh51Xy8DC1"
      },
      "source": [
        "## Data Wrangling"
      ]
    },
    {
      "cell_type": "markdown",
      "metadata": {
        "id": "sXU2GBYu8DC1"
      },
      "source": [
        "### Gathering Data"
      ]
    },
    {
      "cell_type": "code",
      "execution_count": 63,
      "metadata": {
        "id": "zjCBk1BI8DC1"
      },
      "outputs": [],
      "source": [
        "# Memuat dataset 'day.csv' dan 'hour.csv'\n",
        "day_df = pd.read_csv('day.csv')\n",
        "hour_df = pd.read_csv('hour.csv')"
      ]
    },
    {
      "cell_type": "markdown",
      "source": [
        "**Insight:**\n",
        "- Dataset berhasil dimuat ke dalam DataFrame day_df dan hour_df."
      ],
      "metadata": {
        "id": "MMi6xGaDkbCi"
      }
    },
    {
      "cell_type": "markdown",
      "metadata": {
        "id": "FHSiqaZp8DC1"
      },
      "source": [
        "### Assessing Data"
      ]
    },
    {
      "cell_type": "code",
      "source": [
        "# Menampilkan informasi dataset day_df\n",
        "day_df.info()\n",
        "\n",
        "# Menampilkan informasi dataset hour_df\n",
        "hour_df.info()\n",
        "\n",
        "# Mengecek missing values di day_df\n",
        "print(\"Missing values in day_df:\")\n",
        "print(day_df.isnull().sum())\n",
        "\n",
        "# Mengecek missing values di hour_df\n",
        "print(\"\\nMissing values in hour_df:\")\n",
        "print(hour_df.isnull().sum())\n",
        "\n",
        "# Mengecek duplikasi di day_df\n",
        "print(\"\\nJumlah duplikasi di day_df:\", day_df.duplicated().sum())\n",
        "\n",
        "# Mengecek duplikasi di hour_df\n",
        "print(\"Jumlah duplikasi di hour_df:\", hour_df.duplicated().sum())"
      ],
      "metadata": {
        "id": "ax-3tEjc9Cj1",
        "outputId": "ba87b68b-738b-459d-b18e-2fbc8c1b9c22",
        "colab": {
          "base_uri": "https://localhost:8080/"
        }
      },
      "execution_count": 64,
      "outputs": [
        {
          "output_type": "stream",
          "name": "stdout",
          "text": [
            "<class 'pandas.core.frame.DataFrame'>\n",
            "RangeIndex: 731 entries, 0 to 730\n",
            "Data columns (total 16 columns):\n",
            " #   Column      Non-Null Count  Dtype  \n",
            "---  ------      --------------  -----  \n",
            " 0   instant     731 non-null    int64  \n",
            " 1   dteday      731 non-null    object \n",
            " 2   season      731 non-null    int64  \n",
            " 3   yr          731 non-null    int64  \n",
            " 4   mnth        731 non-null    int64  \n",
            " 5   holiday     731 non-null    int64  \n",
            " 6   weekday     731 non-null    int64  \n",
            " 7   workingday  731 non-null    int64  \n",
            " 8   weathersit  731 non-null    int64  \n",
            " 9   temp        731 non-null    float64\n",
            " 10  atemp       731 non-null    float64\n",
            " 11  hum         731 non-null    float64\n",
            " 12  windspeed   731 non-null    float64\n",
            " 13  casual      731 non-null    int64  \n",
            " 14  registered  731 non-null    int64  \n",
            " 15  cnt         731 non-null    int64  \n",
            "dtypes: float64(4), int64(11), object(1)\n",
            "memory usage: 91.5+ KB\n",
            "<class 'pandas.core.frame.DataFrame'>\n",
            "RangeIndex: 17379 entries, 0 to 17378\n",
            "Data columns (total 17 columns):\n",
            " #   Column      Non-Null Count  Dtype  \n",
            "---  ------      --------------  -----  \n",
            " 0   instant     17379 non-null  int64  \n",
            " 1   dteday      17379 non-null  object \n",
            " 2   season      17379 non-null  int64  \n",
            " 3   yr          17379 non-null  int64  \n",
            " 4   mnth        17379 non-null  int64  \n",
            " 5   hr          17379 non-null  int64  \n",
            " 6   holiday     17379 non-null  int64  \n",
            " 7   weekday     17379 non-null  int64  \n",
            " 8   workingday  17379 non-null  int64  \n",
            " 9   weathersit  17379 non-null  int64  \n",
            " 10  temp        17379 non-null  float64\n",
            " 11  atemp       17379 non-null  float64\n",
            " 12  hum         17379 non-null  float64\n",
            " 13  windspeed   17379 non-null  float64\n",
            " 14  casual      17379 non-null  int64  \n",
            " 15  registered  17379 non-null  int64  \n",
            " 16  cnt         17379 non-null  int64  \n",
            "dtypes: float64(4), int64(12), object(1)\n",
            "memory usage: 2.3+ MB\n",
            "Missing values in day_df:\n",
            "instant       0\n",
            "dteday        0\n",
            "season        0\n",
            "yr            0\n",
            "mnth          0\n",
            "holiday       0\n",
            "weekday       0\n",
            "workingday    0\n",
            "weathersit    0\n",
            "temp          0\n",
            "atemp         0\n",
            "hum           0\n",
            "windspeed     0\n",
            "casual        0\n",
            "registered    0\n",
            "cnt           0\n",
            "dtype: int64\n",
            "\n",
            "Missing values in hour_df:\n",
            "instant       0\n",
            "dteday        0\n",
            "season        0\n",
            "yr            0\n",
            "mnth          0\n",
            "hr            0\n",
            "holiday       0\n",
            "weekday       0\n",
            "workingday    0\n",
            "weathersit    0\n",
            "temp          0\n",
            "atemp         0\n",
            "hum           0\n",
            "windspeed     0\n",
            "casual        0\n",
            "registered    0\n",
            "cnt           0\n",
            "dtype: int64\n",
            "\n",
            "Jumlah duplikasi di day_df: 0\n",
            "Jumlah duplikasi di hour_df: 0\n"
          ]
        }
      ]
    },
    {
      "cell_type": "markdown",
      "source": [
        "**Insight:**\n",
        "- Tidak terdapat missing values dan duplikasi dalam kedua dataset.\n",
        "- Beberapa kolom memiliki tipe data yang perlu disesuaikan, seperti kolom dteday yang sebaiknya diubah menjadi tipe datetime, dan kolom kategori yang perlu diubah menjadi tipe kategori."
      ],
      "metadata": {
        "id": "7dtxhAPrkhPL"
      }
    },
    {
      "cell_type": "markdown",
      "metadata": {
        "id": "EhN5R4hr8DC1"
      },
      "source": [
        "### Cleaning Data"
      ]
    },
    {
      "cell_type": "code",
      "source": [
        "# Mengubah tipe data 'dteday' menjadi datetime\n",
        "day_df['dteday'] = pd.to_datetime(day_df['dteday'])\n",
        "hour_df['dteday'] = pd.to_datetime(hour_df['dteday'])\n",
        "\n",
        "# Mengubah tipe data beberapa kolom menjadi kategori\n",
        "category_columns = ['season', 'yr', 'mnth', 'holiday', 'weekday', 'weathersit']\n",
        "for col in category_columns:\n",
        "    day_df[col] = day_df[col].astype('category')\n",
        "    hour_df[col] = hour_df[col].astype('category')\n",
        "\n",
        "# Mengganti nama kolom untuk meningkatkan keterbacaan\n",
        "day_df.rename(columns={\n",
        "    'yr': 'year',\n",
        "    'mnth': 'month',\n",
        "    'weekday': 'day_of_week',\n",
        "    'weathersit': 'weather_situation',\n",
        "    'hum': 'humidity',\n",
        "    'cnt': 'total_count'\n",
        "}, inplace=True)\n",
        "\n",
        "hour_df.rename(columns={\n",
        "    'yr': 'year',\n",
        "    'mnth': 'month',\n",
        "    'hr': 'hour',\n",
        "    'weekday': 'day_of_week',\n",
        "    'weathersit': 'weather_situation',\n",
        "    'hum': 'humidity',\n",
        "    'cnt': 'total_count'\n",
        "}, inplace=True)\n",
        "\n",
        "# Mengonversi nilai kategori untuk interpretasi yang lebih baik\n",
        "# Mapping untuk season\n",
        "season_mapping = {1: 'Spring', 2: 'Summer', 3: 'Fall', 4: 'Winter'}\n",
        "day_df['season'] = day_df['season'].map(season_mapping)\n",
        "hour_df['season'] = hour_df['season'].map(season_mapping)\n",
        "\n",
        "# Mapping untuk month\n",
        "month_mapping = {\n",
        "    1: 'Jan', 2: 'Feb', 3: 'Mar', 4: 'Apr',\n",
        "    5: 'May', 6: 'Jun', 7: 'Jul', 8: 'Aug',\n",
        "    9: 'Sep', 10: 'Oct', 11: 'Nov', 12: 'Dec'\n",
        "}\n",
        "day_df['month'] = day_df['month'].map(month_mapping)\n",
        "hour_df['month'] = hour_df['month'].map(month_mapping)\n",
        "\n",
        "# Mapping untuk day_of_week\n",
        "weekday_mapping = {\n",
        "    0: 'Sunday', 1: 'Monday', 2: 'Tuesday',\n",
        "    3: 'Wednesday', 4: 'Thursday', 5: 'Friday',\n",
        "    6: 'Saturday'\n",
        "}\n",
        "day_df['day_of_week'] = day_df['day_of_week'].map(weekday_mapping)\n",
        "hour_df['day_of_week'] = hour_df['day_of_week'].map(weekday_mapping)\n",
        "\n",
        "# Mapping untuk weather_situation\n",
        "weather_mapping = {\n",
        "    1: 'Clear', 2: 'Mist', 3: 'Light Rain/Snow', 4: 'Heavy Rain/Snow'\n",
        "}\n",
        "day_df['weather_situation'] = day_df['weather_situation'].map(weather_mapping)\n",
        "hour_df['weather_situation'] = hour_df['weather_situation'].map(weather_mapping)\n",
        "\n",
        "# Mapping untuk year\n",
        "year_mapping = {0: 2011, 1: 2012}\n",
        "day_df['year'] = day_df['year'].map(year_mapping)\n",
        "hour_df['year'] = hour_df['year'].map(year_mapping)\n",
        "\n",
        "# Menambahkan kolom 'day_type' untuk membedakan antara weekday dan weekend\n",
        "def categorize_day(day):\n",
        "    if day in ['Saturday', 'Sunday']:\n",
        "        return 'Weekend'\n",
        "    else:\n",
        "        return 'Weekday'\n",
        "\n",
        "day_df['day_type'] = day_df['day_of_week'].apply(categorize_day)\n",
        "hour_df['day_type'] = hour_df['day_of_week'].apply(categorize_day)"
      ],
      "metadata": {
        "id": "jVnYpprE9Evz"
      },
      "execution_count": 65,
      "outputs": []
    },
    {
      "cell_type": "markdown",
      "source": [
        "**Insight:**\n",
        "- Tipe data kolom telah disesuaikan untuk memudahkan proses analisis.\n",
        "- Nama kolom telah diganti agar lebih mudah dipahami.\n",
        "- Nilai numerik pada kolom kategori telah dikonversi menjadi label yang lebih informatif.\n",
        "- Penambahan Kolom 'day_type' untuk membedakan antara hari kerja dan akhir pekan."
      ],
      "metadata": {
        "id": "Q_5ejIqckiSP"
      }
    },
    {
      "cell_type": "markdown",
      "metadata": {
        "id": "gp-Y6wU38DC1"
      },
      "source": [
        "## Exploratory Data Analysis (EDA)"
      ]
    },
    {
      "cell_type": "markdown",
      "metadata": {
        "id": "MW7WF2kr8DC1"
      },
      "source": [
        "### Explore ..."
      ]
    },
    {
      "cell_type": "code",
      "execution_count": 66,
      "metadata": {
        "id": "e9CQCZjk8DC2",
        "outputId": "325caa47-2826-4530-c806-b3c2811f07b5",
        "colab": {
          "base_uri": "https://localhost:8080/"
        }
      },
      "outputs": [
        {
          "output_type": "stream",
          "name": "stdout",
          "text": [
            "           instant               dteday season    year month  holiday  \\\n",
            "count   731.000000                  731    731   731.0   731    731.0   \n",
            "unique         NaN                  NaN      4     2.0    12      2.0   \n",
            "top            NaN                  NaN   Fall  2012.0   Jan      0.0   \n",
            "freq           NaN                  NaN    188   366.0    62    710.0   \n",
            "mean    366.000000  2012-01-01 00:00:00    NaN     NaN   NaN      NaN   \n",
            "min       1.000000  2011-01-01 00:00:00    NaN     NaN   NaN      NaN   \n",
            "25%     183.500000  2011-07-02 12:00:00    NaN     NaN   NaN      NaN   \n",
            "50%     366.000000  2012-01-01 00:00:00    NaN     NaN   NaN      NaN   \n",
            "75%     548.500000  2012-07-01 12:00:00    NaN     NaN   NaN      NaN   \n",
            "max     731.000000  2012-12-31 00:00:00    NaN     NaN   NaN      NaN   \n",
            "std     211.165812                  NaN    NaN     NaN   NaN      NaN   \n",
            "\n",
            "       day_of_week  workingday weather_situation        temp       atemp  \\\n",
            "count          731  731.000000               731  731.000000  731.000000   \n",
            "unique           7         NaN                 3         NaN         NaN   \n",
            "top         Sunday         NaN             Clear         NaN         NaN   \n",
            "freq           105         NaN               463         NaN         NaN   \n",
            "mean           NaN    0.683995               NaN    0.495385    0.474354   \n",
            "min            NaN    0.000000               NaN    0.059130    0.079070   \n",
            "25%            NaN    0.000000               NaN    0.337083    0.337842   \n",
            "50%            NaN    1.000000               NaN    0.498333    0.486733   \n",
            "75%            NaN    1.000000               NaN    0.655417    0.608602   \n",
            "max            NaN    1.000000               NaN    0.861667    0.840896   \n",
            "std            NaN    0.465233               NaN    0.183051    0.162961   \n",
            "\n",
            "          humidity   windspeed       casual   registered  total_count day_type  \n",
            "count   731.000000  731.000000   731.000000   731.000000   731.000000      731  \n",
            "unique         NaN         NaN          NaN          NaN          NaN        2  \n",
            "top            NaN         NaN          NaN          NaN          NaN  Weekday  \n",
            "freq           NaN         NaN          NaN          NaN          NaN      521  \n",
            "mean      0.627894    0.190486   848.176471  3656.172367  4504.348837      NaN  \n",
            "min       0.000000    0.022392     2.000000    20.000000    22.000000      NaN  \n",
            "25%       0.520000    0.134950   315.500000  2497.000000  3152.000000      NaN  \n",
            "50%       0.626667    0.180975   713.000000  3662.000000  4548.000000      NaN  \n",
            "75%       0.730209    0.233214  1096.000000  4776.500000  5956.000000      NaN  \n",
            "max       0.972500    0.507463  3410.000000  6946.000000  8714.000000      NaN  \n",
            "std       0.142429    0.077498   686.622488  1560.256377  1937.211452      NaN  \n",
            "           instant                         dteday season     year  month  \\\n",
            "count   17379.0000                          17379  17379  17379.0  17379   \n",
            "unique         NaN                            NaN      4      2.0     12   \n",
            "top            NaN                            NaN   Fall   2012.0    May   \n",
            "freq           NaN                            NaN   4496   8734.0   1488   \n",
            "mean     8690.0000  2012-01-02 04:08:34.552045568    NaN      NaN    NaN   \n",
            "min         1.0000            2011-01-01 00:00:00    NaN      NaN    NaN   \n",
            "25%      4345.5000            2011-07-04 00:00:00    NaN      NaN    NaN   \n",
            "50%      8690.0000            2012-01-02 00:00:00    NaN      NaN    NaN   \n",
            "75%     13034.5000            2012-07-02 00:00:00    NaN      NaN    NaN   \n",
            "max     17379.0000            2012-12-31 00:00:00    NaN      NaN    NaN   \n",
            "std      5017.0295                            NaN    NaN      NaN    NaN   \n",
            "\n",
            "                hour  holiday day_of_week    workingday weather_situation  \\\n",
            "count   17379.000000  17379.0       17379  17379.000000             17379   \n",
            "unique           NaN      2.0           7           NaN                 4   \n",
            "top              NaN      0.0    Saturday           NaN             Clear   \n",
            "freq             NaN  16879.0        2512           NaN             11413   \n",
            "mean       11.546752      NaN         NaN      0.682721               NaN   \n",
            "min         0.000000      NaN         NaN      0.000000               NaN   \n",
            "25%         6.000000      NaN         NaN      0.000000               NaN   \n",
            "50%        12.000000      NaN         NaN      1.000000               NaN   \n",
            "75%        18.000000      NaN         NaN      1.000000               NaN   \n",
            "max        23.000000      NaN         NaN      1.000000               NaN   \n",
            "std         6.914405      NaN         NaN      0.465431               NaN   \n",
            "\n",
            "                temp         atemp      humidity     windspeed        casual  \\\n",
            "count   17379.000000  17379.000000  17379.000000  17379.000000  17379.000000   \n",
            "unique           NaN           NaN           NaN           NaN           NaN   \n",
            "top              NaN           NaN           NaN           NaN           NaN   \n",
            "freq             NaN           NaN           NaN           NaN           NaN   \n",
            "mean        0.496987      0.475775      0.627229      0.190098     35.676218   \n",
            "min         0.020000      0.000000      0.000000      0.000000      0.000000   \n",
            "25%         0.340000      0.333300      0.480000      0.104500      4.000000   \n",
            "50%         0.500000      0.484800      0.630000      0.194000     17.000000   \n",
            "75%         0.660000      0.621200      0.780000      0.253700     48.000000   \n",
            "max         1.000000      1.000000      1.000000      0.850700    367.000000   \n",
            "std         0.192556      0.171850      0.192930      0.122340     49.305030   \n",
            "\n",
            "          registered   total_count day_type  \n",
            "count   17379.000000  17379.000000    17379  \n",
            "unique           NaN           NaN        2  \n",
            "top              NaN           NaN  Weekday  \n",
            "freq             NaN           NaN    12365  \n",
            "mean      153.786869    189.463088      NaN  \n",
            "min         0.000000      1.000000      NaN  \n",
            "25%        34.000000     40.000000      NaN  \n",
            "50%       115.000000    142.000000      NaN  \n",
            "75%       220.000000    281.000000      NaN  \n",
            "max       886.000000    977.000000      NaN  \n",
            "std       151.357286    181.387599      NaN  \n"
          ]
        }
      ],
      "source": [
        "# Menampilkan statistik deskriptif untuk day_df\n",
        "print(day_df.describe(include='all'))\n",
        "\n",
        "# Menampilkan statistik deskriptif untuk hour_df\n",
        "print(hour_df.describe(include='all'))"
      ]
    },
    {
      "cell_type": "markdown",
      "source": [
        "**Insight:**\n",
        "- Statistik deskriptif memberikan gambaran tentang distribusi data, seperti nilai rata-rata, median, dan standar deviasi.\n"
      ],
      "metadata": {
        "id": "th_Lzl2Fkj9O"
      }
    },
    {
      "cell_type": "markdown",
      "metadata": {
        "id": "zsyZjqak8DC2"
      },
      "source": [
        "## Visualization & Explanatory Analysis"
      ]
    },
    {
      "cell_type": "markdown",
      "metadata": {
        "id": "HZxOiQ6n8DC2"
      },
      "source": [
        "### Pertanyaan 1: Pada jam berapa penyewaan sepeda paling banyak dan paling sedikit terjadi?"
      ]
    },
    {
      "cell_type": "code",
      "execution_count": 67,
      "metadata": {
        "id": "1swJUdAD8DC2",
        "outputId": "469b51ce-092d-4019-e4c9-4dd084785b2b",
        "colab": {
          "base_uri": "https://localhost:8080/",
          "height": 1000
        }
      },
      "outputs": [
        {
          "output_type": "stream",
          "name": "stderr",
          "text": [
            "<ipython-input-67-7b08465382ce>:10: FutureWarning: \n",
            "\n",
            "Passing `palette` without assigning `hue` is deprecated and will be removed in v0.14.0. Assign the `x` variable to `hue` and set `legend=False` for the same effect.\n",
            "\n",
            "  sns.barplot(x='hour', y='total_count', data=hourly_counts, palette='viridis')\n",
            "/usr/local/lib/python3.10/dist-packages/seaborn/_base.py:949: FutureWarning: When grouping with a length-1 list-like, you will need to pass a length-1 tuple to get_group in a future version of pandas. Pass `(name,)` instead of `name` to silence this warning.\n",
            "  data_subset = grouped_data.get_group(pd_key)\n",
            "/usr/local/lib/python3.10/dist-packages/seaborn/_base.py:949: FutureWarning: When grouping with a length-1 list-like, you will need to pass a length-1 tuple to get_group in a future version of pandas. Pass `(name,)` instead of `name` to silence this warning.\n",
            "  data_subset = grouped_data.get_group(pd_key)\n",
            "/usr/local/lib/python3.10/dist-packages/seaborn/_base.py:949: FutureWarning: When grouping with a length-1 list-like, you will need to pass a length-1 tuple to get_group in a future version of pandas. Pass `(name,)` instead of `name` to silence this warning.\n",
            "  data_subset = grouped_data.get_group(pd_key)\n",
            "/usr/local/lib/python3.10/dist-packages/seaborn/_base.py:949: FutureWarning: When grouping with a length-1 list-like, you will need to pass a length-1 tuple to get_group in a future version of pandas. Pass `(name,)` instead of `name` to silence this warning.\n",
            "  data_subset = grouped_data.get_group(pd_key)\n",
            "/usr/local/lib/python3.10/dist-packages/seaborn/_base.py:949: FutureWarning: When grouping with a length-1 list-like, you will need to pass a length-1 tuple to get_group in a future version of pandas. Pass `(name,)` instead of `name` to silence this warning.\n",
            "  data_subset = grouped_data.get_group(pd_key)\n",
            "/usr/local/lib/python3.10/dist-packages/seaborn/_base.py:949: FutureWarning: When grouping with a length-1 list-like, you will need to pass a length-1 tuple to get_group in a future version of pandas. Pass `(name,)` instead of `name` to silence this warning.\n",
            "  data_subset = grouped_data.get_group(pd_key)\n",
            "/usr/local/lib/python3.10/dist-packages/seaborn/_base.py:949: FutureWarning: When grouping with a length-1 list-like, you will need to pass a length-1 tuple to get_group in a future version of pandas. Pass `(name,)` instead of `name` to silence this warning.\n",
            "  data_subset = grouped_data.get_group(pd_key)\n",
            "/usr/local/lib/python3.10/dist-packages/seaborn/_base.py:949: FutureWarning: When grouping with a length-1 list-like, you will need to pass a length-1 tuple to get_group in a future version of pandas. Pass `(name,)` instead of `name` to silence this warning.\n",
            "  data_subset = grouped_data.get_group(pd_key)\n",
            "/usr/local/lib/python3.10/dist-packages/seaborn/_base.py:949: FutureWarning: When grouping with a length-1 list-like, you will need to pass a length-1 tuple to get_group in a future version of pandas. Pass `(name,)` instead of `name` to silence this warning.\n",
            "  data_subset = grouped_data.get_group(pd_key)\n",
            "/usr/local/lib/python3.10/dist-packages/seaborn/_base.py:949: FutureWarning: When grouping with a length-1 list-like, you will need to pass a length-1 tuple to get_group in a future version of pandas. Pass `(name,)` instead of `name` to silence this warning.\n",
            "  data_subset = grouped_data.get_group(pd_key)\n",
            "/usr/local/lib/python3.10/dist-packages/seaborn/_base.py:949: FutureWarning: When grouping with a length-1 list-like, you will need to pass a length-1 tuple to get_group in a future version of pandas. Pass `(name,)` instead of `name` to silence this warning.\n",
            "  data_subset = grouped_data.get_group(pd_key)\n",
            "/usr/local/lib/python3.10/dist-packages/seaborn/_base.py:949: FutureWarning: When grouping with a length-1 list-like, you will need to pass a length-1 tuple to get_group in a future version of pandas. Pass `(name,)` instead of `name` to silence this warning.\n",
            "  data_subset = grouped_data.get_group(pd_key)\n",
            "/usr/local/lib/python3.10/dist-packages/seaborn/_base.py:949: FutureWarning: When grouping with a length-1 list-like, you will need to pass a length-1 tuple to get_group in a future version of pandas. Pass `(name,)` instead of `name` to silence this warning.\n",
            "  data_subset = grouped_data.get_group(pd_key)\n",
            "/usr/local/lib/python3.10/dist-packages/seaborn/_base.py:949: FutureWarning: When grouping with a length-1 list-like, you will need to pass a length-1 tuple to get_group in a future version of pandas. Pass `(name,)` instead of `name` to silence this warning.\n",
            "  data_subset = grouped_data.get_group(pd_key)\n",
            "/usr/local/lib/python3.10/dist-packages/seaborn/_base.py:949: FutureWarning: When grouping with a length-1 list-like, you will need to pass a length-1 tuple to get_group in a future version of pandas. Pass `(name,)` instead of `name` to silence this warning.\n",
            "  data_subset = grouped_data.get_group(pd_key)\n",
            "/usr/local/lib/python3.10/dist-packages/seaborn/_base.py:949: FutureWarning: When grouping with a length-1 list-like, you will need to pass a length-1 tuple to get_group in a future version of pandas. Pass `(name,)` instead of `name` to silence this warning.\n",
            "  data_subset = grouped_data.get_group(pd_key)\n",
            "/usr/local/lib/python3.10/dist-packages/seaborn/_base.py:949: FutureWarning: When grouping with a length-1 list-like, you will need to pass a length-1 tuple to get_group in a future version of pandas. Pass `(name,)` instead of `name` to silence this warning.\n",
            "  data_subset = grouped_data.get_group(pd_key)\n",
            "/usr/local/lib/python3.10/dist-packages/seaborn/_base.py:949: FutureWarning: When grouping with a length-1 list-like, you will need to pass a length-1 tuple to get_group in a future version of pandas. Pass `(name,)` instead of `name` to silence this warning.\n",
            "  data_subset = grouped_data.get_group(pd_key)\n",
            "/usr/local/lib/python3.10/dist-packages/seaborn/_base.py:949: FutureWarning: When grouping with a length-1 list-like, you will need to pass a length-1 tuple to get_group in a future version of pandas. Pass `(name,)` instead of `name` to silence this warning.\n",
            "  data_subset = grouped_data.get_group(pd_key)\n",
            "/usr/local/lib/python3.10/dist-packages/seaborn/_base.py:949: FutureWarning: When grouping with a length-1 list-like, you will need to pass a length-1 tuple to get_group in a future version of pandas. Pass `(name,)` instead of `name` to silence this warning.\n",
            "  data_subset = grouped_data.get_group(pd_key)\n",
            "/usr/local/lib/python3.10/dist-packages/seaborn/_base.py:949: FutureWarning: When grouping with a length-1 list-like, you will need to pass a length-1 tuple to get_group in a future version of pandas. Pass `(name,)` instead of `name` to silence this warning.\n",
            "  data_subset = grouped_data.get_group(pd_key)\n",
            "/usr/local/lib/python3.10/dist-packages/seaborn/_base.py:949: FutureWarning: When grouping with a length-1 list-like, you will need to pass a length-1 tuple to get_group in a future version of pandas. Pass `(name,)` instead of `name` to silence this warning.\n",
            "  data_subset = grouped_data.get_group(pd_key)\n",
            "/usr/local/lib/python3.10/dist-packages/seaborn/_base.py:949: FutureWarning: When grouping with a length-1 list-like, you will need to pass a length-1 tuple to get_group in a future version of pandas. Pass `(name,)` instead of `name` to silence this warning.\n",
            "  data_subset = grouped_data.get_group(pd_key)\n",
            "/usr/local/lib/python3.10/dist-packages/seaborn/_base.py:949: FutureWarning: When grouping with a length-1 list-like, you will need to pass a length-1 tuple to get_group in a future version of pandas. Pass `(name,)` instead of `name` to silence this warning.\n",
            "  data_subset = grouped_data.get_group(pd_key)\n"
          ]
        },
        {
          "output_type": "display_data",
          "data": {
            "text/plain": [
              "<Figure size 1200x600 with 1 Axes>"
            ],
            "image/png": "[encoded data removed]"
          },
          "metadata": {}
        }
      ],
      "source": [
        "# Menghitung total penyewaan per jam\n",
        "hourly_counts = hour_df.groupby('hour')['total_count'].sum().reset_index()\n",
        "\n",
        "# Mengonversi jam ke integer untuk pengurutan\n",
        "hourly_counts['hour'] = hourly_counts['hour'].astype(int)\n",
        "hourly_counts.sort_values('hour', inplace=True)\n",
        "\n",
        "# Visualisasi penyewaan per jam\n",
        "plt.figure(figsize=(12,6))\n",
        "sns.barplot(x='hour', y='total_count', data=hourly_counts, palette='viridis')\n",
        "plt.title('Total Penyewaan Sepeda per Jam')\n",
        "plt.xlabel('Jam')\n",
        "plt.ylabel('Jumlah Penyewaan')\n",
        "plt.xticks(rotation=45)\n",
        "plt.show()"
      ]
    },
    {
      "cell_type": "markdown",
      "metadata": {
        "id": "DgHI7CiU8DC2"
      },
      "source": [
        "### Pertanyaan 2: Pada musim apa penyewaan sepeda paling banyak terjadi?"
      ]
    },
    {
      "cell_type": "code",
      "execution_count": 68,
      "metadata": {
        "id": "Go0lCsvO8DC2",
        "outputId": "16ce6932-3829-4b21-d409-5708df71d099",
        "colab": {
          "base_uri": "https://localhost:8080/",
          "height": 844
        }
      },
      "outputs": [
        {
          "output_type": "stream",
          "name": "stderr",
          "text": [
            "<ipython-input-68-a6f4bbaf6af3>:2: FutureWarning: The default of observed=False is deprecated and will be changed to True in a future version of pandas. Pass observed=False to retain current behavior or observed=True to adopt the future default and silence this warning.\n",
            "  season_counts = day_df.groupby('season')['total_count'].sum().reset_index()\n",
            "<ipython-input-68-a6f4bbaf6af3>:6: FutureWarning: \n",
            "\n",
            "Passing `palette` without assigning `hue` is deprecated and will be removed in v0.14.0. Assign the `x` variable to `hue` and set `legend=False` for the same effect.\n",
            "\n",
            "  sns.barplot(x='season', y='total_count', data=season_counts, palette='autumn')\n",
            "/usr/local/lib/python3.10/dist-packages/seaborn/_base.py:949: FutureWarning: When grouping with a length-1 list-like, you will need to pass a length-1 tuple to get_group in a future version of pandas. Pass `(name,)` instead of `name` to silence this warning.\n",
            "  data_subset = grouped_data.get_group(pd_key)\n",
            "/usr/local/lib/python3.10/dist-packages/seaborn/_base.py:949: FutureWarning: When grouping with a length-1 list-like, you will need to pass a length-1 tuple to get_group in a future version of pandas. Pass `(name,)` instead of `name` to silence this warning.\n",
            "  data_subset = grouped_data.get_group(pd_key)\n",
            "/usr/local/lib/python3.10/dist-packages/seaborn/_base.py:949: FutureWarning: When grouping with a length-1 list-like, you will need to pass a length-1 tuple to get_group in a future version of pandas. Pass `(name,)` instead of `name` to silence this warning.\n",
            "  data_subset = grouped_data.get_group(pd_key)\n",
            "/usr/local/lib/python3.10/dist-packages/seaborn/_base.py:949: FutureWarning: When grouping with a length-1 list-like, you will need to pass a length-1 tuple to get_group in a future version of pandas. Pass `(name,)` instead of `name` to silence this warning.\n",
            "  data_subset = grouped_data.get_group(pd_key)\n"
          ]
        },
        {
          "output_type": "display_data",
          "data": {
            "text/plain": [
              "<Figure size 800x600 with 1 Axes>"
            ],
            "image/png": "[encoded data removed]"
          },
          "metadata": {}
        }
      ],
      "source": [
        "# Menghitung total penyewaan per musim\n",
        "season_counts = day_df.groupby('season')['total_count'].sum().reset_index()\n",
        "\n",
        "# Visualisasi penyewaan per musim\n",
        "plt.figure(figsize=(8,6))\n",
        "sns.barplot(x='season', y='total_count', data=season_counts, palette='autumn')\n",
        "plt.title('Total Penyewaan Sepeda per Musim')\n",
        "plt.xlabel('Musim')\n",
        "plt.ylabel('Jumlah Penyewaan')\n",
        "plt.show()"
      ]
    },
    {
      "cell_type": "markdown",
      "source": [
        "**Insight:**\n",
        "- Pertanyaan 1:\n",
        "\n",
        "   Jam Paling Banyak Penyewaan: Jam 17:00 menunjukkan jumlah penyewaan tertinggi.\n",
        "   \n",
        "   Jam Paling Sedikit Penyewaan: Jam 04:00 memiliki jumlah penyewaan terendah.\n",
        "   \n",
        "   Interpretasi: Peningkatan pada jam 17:00 kemungkinan besar disebabkan oleh jam pulang kerja, sementara rendahnya penyewaan pada jam 04:00 disebabkan oleh aktivitas yang minim pada dini hari.\n",
        "\n",
        "- Pertanyaan 2:\n",
        "\n",
        "   Musim gugur memiliki jumlah penyewaan tertinggi.\n",
        "   \n",
        "   Interpretasi: Kondisi cuaca yang nyaman pada musim gugur mungkin mendorong lebih banyak orang untuk bersepeda."
      ],
      "metadata": {
        "id": "_0-36BDLklRg"
      }
    },
    {
      "cell_type": "markdown",
      "source": [
        "## Analisis Lanjutan (Opsional)"
      ],
      "metadata": {
        "id": "9y4VUsmcYNZ5"
      }
    },
    {
      "cell_type": "code",
      "source": [],
      "metadata": {
        "id": "iWhnzsJGYUCO"
      },
      "execution_count": null,
      "outputs": []
    },
    {
      "cell_type": "markdown",
      "metadata": {
        "id": "_WeHlCeX8DC2"
      },
      "source": [
        "## Conclusion"
      ]
    },
    {
      "cell_type": "markdown",
      "metadata": {
        "id": "ZTcyR48Y8DC2"
      },
      "source": [
        "- Conclution pertanyaan 1\n",
        "   \n",
        "   1.Penyewaan Tertinggi: Terjadi pada jam 17:00, kemungkinan karena jam pulang kerja dan aktivitas sore hari.\n",
        "   \n",
        "   2.Penyewaan Terendah: Terjadi pada jam 04:00, saat aktivitas masyarakat masih rendah.\n",
        "   \n",
        "   Rekomendasi: Menyediakan lebih banyak sepeda pada jam-jam sibuk dan mempertimbangkan pengurangan pada jam tidak sibuk untuk efisiensi.\n",
        "   \n",
        "- Conclution pertanyaan 2\n",
        "\n",
        "   1.Musim Terbanyak Penyewaan: Musim gugur menunjukkan jumlah penyewaan tertinggi.\n",
        "   \n",
        "   2.Faktor Cuaca: Kondisi cuaca yang nyaman pada musim gugur mendorong peningkatan penyewaan.\n",
        "   \n",
        "   Rekomendasi: Meningkatkan promosi dan ketersediaan sepeda selama musim gugur untuk memaksimalkan pendapatan."
      ]
    }
  ],
  "metadata": {
    "kernelspec": {
      "display_name": "Python 3",
      "language": "python",
      "name": "python3"
    },
    "language_info": {
      "name": "python",
      "version": "3.8.0 (tags/v3.8.0:fa919fd, Oct 14 2019, 19:21:23) [MSC v.1916 32 bit (Intel)]"
    },
    "orig_nbformat": 4,
    "vscode": {
      "interpreter": {
        "hash": "972b3bf27e332e87b5379f2791f6ef9dfc79c71018c370b0d7423235e20fe4d7"
      }
    },
    "colab": {
      "provenance": []
    }
  },
  "nbformat": 4,
  "nbformat_minor": 0
}